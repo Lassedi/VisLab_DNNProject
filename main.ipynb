{
 "cells": [
  {
   "cell_type": "code",
   "execution_count": 18,
   "metadata": {},
   "outputs": [
    {
     "data": {
      "text/plain": [
       "tuple"
      ]
     },
     "execution_count": 18,
     "metadata": {},
     "output_type": "execute_result"
    }
   ],
   "source": [
    "from torch.nn.modules.utils import _pair\n",
    "\n",
    "type(_pair(22))\n",
    "\n",
    "type((54,44))"
   ]
  },
  {
   "cell_type": "code",
   "execution_count": 3,
   "metadata": {},
   "outputs": [
    {
     "name": "stdout",
     "output_type": "stream",
     "text": [
      "----------------------------------------------------------------\n",
      "        Layer (type)               Output Shape         Param #\n",
      "================================================================\n",
      "LocallyConnected2d-1           [-1, 32, 44, 44]       6,752,768\n",
      "              ReLU-2           [-1, 32, 44, 44]               0\n",
      "LocallyConnected2d-3           [-1, 64, 10, 10]       7,379,200\n",
      "              ReLU-4           [-1, 64, 10, 10]               0\n",
      "         MaxPool2d-5             [-1, 64, 5, 5]               0\n",
      "           Flatten-6                 [-1, 1600]               0\n",
      "            Linear-7                  [-1, 128]         204,928\n",
      "              ReLU-8                  [-1, 128]               0\n",
      "            Linear-9                   [-1, 10]           1,290\n",
      "================================================================\n",
      "Total params: 14,338,186\n",
      "Trainable params: 14,338,186\n",
      "Non-trainable params: 0\n",
      "----------------------------------------------------------------\n",
      "Input size (MB): 0.36\n",
      "Forward/backward pass size (MB): 1.07\n",
      "Params size (MB): 54.70\n",
      "Estimated Total Size (MB): 56.13\n",
      "----------------------------------------------------------------\n"
     ]
    }
   ],
   "source": [
    "from custom.model import FreeConvNetwork\n",
    "from torchsummary import summary\n",
    "import torch\n",
    "\n",
    "device = torch.device(\"cuda\" if torch.cuda.is_available() else \"cpu\")\n",
    "\n",
    "model = FreeConvNetwork().to(device)\n",
    "\n",
    "\n",
    "summary(model, (3, 178, 178))"
   ]
  },
  {
   "cell_type": "code",
   "execution_count": 4,
   "metadata": {},
   "outputs": [
    {
     "data": {
      "text/plain": [
       "True"
      ]
     },
     "execution_count": 4,
     "metadata": {},
     "output_type": "execute_result"
    }
   ],
   "source": [
    "import torch \n",
    "\n",
    "torch.cuda.is_available()"
   ]
  }
 ],
 "metadata": {
  "kernelspec": {
   "display_name": "Python 3 (ipykernel)",
   "language": "python",
   "name": "python3"
  },
  "language_info": {
   "codemirror_mode": {
    "name": "ipython",
    "version": 3
   },
   "file_extension": ".py",
   "mimetype": "text/x-python",
   "name": "python",
   "nbconvert_exporter": "python",
   "pygments_lexer": "ipython3",
   "version": "3.11.3"
  },
  "orig_nbformat": 4
 },
 "nbformat": 4,
 "nbformat_minor": 2
}
