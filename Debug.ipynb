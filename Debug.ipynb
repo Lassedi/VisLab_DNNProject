{
 "cells": [
  {
   "cell_type": "code",
   "execution_count": 2,
   "metadata": {},
   "outputs": [
    {
     "name": "stdout",
     "output_type": "stream",
     "text": [
      "----------------------------------------------------------------\n",
      "        Layer (type)               Output Shape         Param #\n",
      "================================================================\n",
      "LocallyConnected2d-1           [-1, 32, 13, 13]          54,080\n",
      "              ReLU-2           [-1, 32, 13, 13]               0\n",
      "LocallyConnected2d-3             [-1, 64, 6, 6]         665,856\n",
      "              ReLU-4             [-1, 64, 6, 6]               0\n",
      "LocallyConnected2d-5            [-1, 128, 4, 4]       1,181,696\n",
      "              ReLU-6            [-1, 128, 4, 4]               0\n",
      "           Flatten-7                 [-1, 2048]               0\n",
      "            Linear-8                   [-1, 10]          20,490\n",
      "              ReLU-9                   [-1, 10]               0\n",
      "================================================================\n",
      "Total params: 1,922,122\n",
      "Trainable params: 1,922,122\n",
      "Non-trainable params: 0\n",
      "----------------------------------------------------------------\n",
      "Input size (MB): 0.00\n",
      "Forward/backward pass size (MB): 0.16\n",
      "Params size (MB): 7.33\n",
      "Estimated Total Size (MB): 7.50\n",
      "----------------------------------------------------------------\n"
     ]
    }
   ],
   "source": [
    "# from custom.mnist_net import FreeConvNetwork - debug\n",
    "from custom.mnist_net import FreeConvNetwork\n",
    "import torch\n",
    "from torchsummary import summary\n",
    "# Testing & summarizeing the model\n",
    "device = torch.device(\"cuda\" if torch.cuda.is_available() else \"cpu\")\n",
    "\n",
    "\n",
    "model = FreeConvNetwork().to(device)\n",
    "\n",
    "summary(model, (1, 28, 28))"
   ]
  },
  {
   "cell_type": "code",
   "execution_count": 28,
   "metadata": {},
   "outputs": [
    {
     "data": {
      "text/plain": [
       "torch.Size([4, 1, 28, 28])"
      ]
     },
     "execution_count": 28,
     "metadata": {},
     "output_type": "execute_result"
    }
   ],
   "source": [
    "### Checking if forward path work properly and data isnt mixed in the training process ###\n",
    "# batch sample which we want to change\n",
    "n = 3\n",
    "\n",
    "# move to cpu \n",
    "model.to(\"cpu\")\n",
    "\n",
    "# make random input\n",
    "example_input = torch.rand(4, 1, 28, 28, requires_grad=True)\n",
    "\n",
    "# run the input through the model\n",
    "output = model(example_input)\n",
    "\n",
    "# compute dummy loss on the n-th output sample and back-popagate\n",
    "output[n].abs().sum().backward()\n",
    "\n",
    "\n",
    "# check that i!=n are all zero and were not changed by this operation\n",
    "i = 0\n",
    "example_input.grad.size()"
   ]
  }
 ],
 "metadata": {
  "kernelspec": {
   "display_name": "DNN_project",
   "language": "python",
   "name": "python3"
  },
  "language_info": {
   "codemirror_mode": {
    "name": "ipython",
    "version": 3
   },
   "file_extension": ".py",
   "mimetype": "text/x-python",
   "name": "python",
   "nbconvert_exporter": "python",
   "pygments_lexer": "ipython3",
   "version": "3.11.3"
  },
  "orig_nbformat": 4
 },
 "nbformat": 4,
 "nbformat_minor": 2
}
