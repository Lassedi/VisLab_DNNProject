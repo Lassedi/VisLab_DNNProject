{
 "cells": [
  {
   "cell_type": "code",
   "execution_count": 2,
   "metadata": {},
   "outputs": [
    {
     "name": "stdout",
     "output_type": "stream",
     "text": [
      "[PhysicalDevice(name='/physical_device:GPU:0', device_type='GPU')]\n"
     ]
    }
   ],
   "source": [
    "from keras.models import Sequential\n",
    "from keras.layers import Dense, LocallyConnected2D, Flatten\n",
    "import tensorflow as tf\n",
    "from keras.utils import to_categorical\n",
    "from tensorflow import keras \n",
    "\n",
    "print (tf.config.list_physical_devices('GPU')) # verify that GPU is used; '' is important\n",
    "\n",
    "# make the model\n",
    "model = Sequential()\n",
    "\n",
    "# add layers\n",
    "model.add(\n",
    "LocallyConnected2D(16, (3,3), (2,2), \n",
    "                    activation=\"ReLU\", use_bias=True))\n",
    "model.add(\n",
    "LocallyConnected2D(32,(3,3),(2,2), \n",
    "                    activation=\"ReLU\", use_bias=True))\n",
    "model.add(\n",
    "LocallyConnected2D(64,(3,3), (1,1),\n",
    "                    activation=\"ReLU\",use_bias=True))\n",
    "\n",
    "model.add(Flatten())\n",
    "model.add(Dense(512, \"ReLU\"))\n",
    "model.add(Dense(10, \"softmax\"))"
   ]
  },
  {
   "cell_type": "code",
   "execution_count": 5,
   "metadata": {},
   "outputs": [
    {
     "name": "stdout",
     "output_type": "stream",
     "text": [
      "Model: \"sequential\"\n",
      "_________________________________________________________________\n",
      " Layer (type)                Output Shape              Param #   \n",
      "=================================================================\n",
      " locally_connected2d (Locall  (16, 13, 13, 16)         27040     \n",
      " yConnected2D)                                                   \n",
      "                                                                 \n",
      " locally_connected2d_1 (Loca  (16, 6, 6, 32)           167040    \n",
      " llyConnected2D)                                                 \n",
      "                                                                 \n",
      " locally_connected2d_2 (Loca  (16, 4, 4, 64)           295936    \n",
      " llyConnected2D)                                                 \n",
      "                                                                 \n",
      " flatten (Flatten)           (16, 1024)                0         \n",
      "                                                                 \n",
      " dense (Dense)               (16, 512)                 524800    \n",
      "                                                                 \n",
      " dense_1 (Dense)             (16, 10)                  5130      \n",
      "                                                                 \n",
      "=================================================================\n",
      "Total params: 1,019,946\n",
      "Trainable params: 1,019,946\n",
      "Non-trainable params: 0\n",
      "_________________________________________________________________\n"
     ]
    }
   ],
   "source": [
    "model.summary()"
   ]
  },
  {
   "cell_type": "code",
   "execution_count": 5,
   "metadata": {},
   "outputs": [],
   "source": [
    "# load data and move \n",
    "(x_train, y_train), (x_test, y_test) = keras.datasets.mnist.load_data()\n",
    "\n",
    "#preprocess the data\n",
    "x_train = x_train.reshape(60000,28,28,1).astype(\"float32\") / 255 # divide by 255 to normalize input\n",
    "x_test = x_test.reshape(10000,28,28,1).astype(\"float32\") / 255\n",
    "\n",
    "y_train = to_categorical(y_train)\n",
    "y_test = to_categorical(y_test)\n"
   ]
  },
  {
   "cell_type": "code",
   "execution_count": 6,
   "metadata": {},
   "outputs": [
    {
     "name": "stdout",
     "output_type": "stream",
     "text": [
      "3750/3750 [==============================] - 60s 15ms/step - loss: 0.0826 - accuracy: 0.9745 - val_loss: 0.0755 - val_accuracy: 0.9770\n"
     ]
    }
   ],
   "source": [
    "# define optimizer, loss and evaluation metrics\n",
    "model.compile(\n",
    "optimizer = keras.optimizers.Adam(learning_rate=0.001),\n",
    "loss = \"categorical_crossentropy\",\n",
    "metrics = [\"accuracy\"],\n",
    ")\n",
    "\n",
    "# fit the model\n",
    "history = model.fit(\n",
    "x_train,\n",
    "y_train,\n",
    "batch_size=16,\n",
    "epochs=1,\n",
    "\n",
    "validation_data=(x_test, y_test)\n",
    ")\n"
   ]
  }
 ],
 "metadata": {
  "kernelspec": {
   "display_name": "DNN_project",
   "language": "python",
   "name": "python3"
  },
  "language_info": {
   "codemirror_mode": {
    "name": "ipython",
    "version": 3
   },
   "file_extension": ".py",
   "mimetype": "text/x-python",
   "name": "python",
   "nbconvert_exporter": "python",
   "pygments_lexer": "ipython3",
   "version": "3.9.16"
  },
  "orig_nbformat": 4
 },
 "nbformat": 4,
 "nbformat_minor": 2
}
