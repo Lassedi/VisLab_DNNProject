{
 "cells": [
  {
   "cell_type": "code",
   "execution_count": 30,
   "metadata": {},
   "outputs": [
    {
     "data": {
      "text/plain": [
       "<All keys matched successfully>"
      ]
     },
     "execution_count": 30,
     "metadata": {},
     "output_type": "execute_result"
    }
   ],
   "source": [
    "%reload_ext autoreload\n",
    "%autoreload 2\n",
    "import torch\n",
    "from torchvision.models.feature_extraction import get_graph_node_names\n",
    "from custom.mnist_net import FreeConvNetwork\n",
    "import os\n",
    "from tensorboard.backend.event_processing.event_accumulator import EventAccumulator\n",
    "import tensorboard\n",
    "\n",
    "# load model dict\n",
    "state_dict_path = \"C:\\Master\\Research Internship\\DNN_project\\Snellius_model\\model_MNIST_50E_test\"\n",
    "state_dict_path = state_dict_path + \"\\\\\" + os.listdir(state_dict_path)[-1]\n",
    "\n",
    "state_dict = torch.load(state_dict_path)\n",
    "\n",
    "# change state dictionary keys to match expected keys without \"module.\"\n",
    "for key in list(state_dict):\n",
    "    new_key = \".\".join(key.split(\".\")[1:]) # split the original key at every \".\" take everything but \"module\" and join it together again with \".\"\n",
    "    state_dict[key.replace(key, new_key)] = state_dict.pop(key)\n",
    "# print(state_dict.keys())\n",
    "\n",
    "# load model\n",
    "model = FreeConvNetwork()\n",
    "model.load_state_dict(state_dict)\n"
   ]
  },
  {
   "cell_type": "code",
   "execution_count": 48,
   "metadata": {},
   "outputs": [
    {
     "name": "stdout",
     "output_type": "stream",
     "text": [
      "['Loss/train']\n"
     ]
    }
   ],
   "source": [
    "event_acc = EventAccumulator(r'C:\\Master\\Research Internship\\DNN_project\\Snellius_runs\\runs\\fashion_trainer_20230722_143959')\n",
    "event_acc.Reload()\n",
    "\n",
    "print(event_acc.Tags()[\"scalars\"])\n",
    "\n",
    "x = event_acc.Scalars(\"Loss/train\")"
   ]
  },
  {
   "cell_type": "code",
   "execution_count": 55,
   "metadata": {},
   "outputs": [
    {
     "data": {
      "text/plain": [
       "100"
      ]
     },
     "execution_count": 55,
     "metadata": {},
     "output_type": "execute_result"
    }
   ],
   "source": [
    "x[0].ste"
   ]
  },
  {
   "cell_type": "code",
   "execution_count": 32,
   "metadata": {},
   "outputs": [
    {
     "ename": "TraceError",
     "evalue": "Proxy object cannot be iterated. This can be attempted when the Proxy is used in a loop or as a *args or **kwargs function argument. See the torch.fx docs on pytorch.org for a more detailed explanation of what types of control flow can be traced, and check out the Proxy docstring for help troubleshooting Proxy iteration errors",
     "output_type": "error",
     "traceback": [
      "\u001b[1;31m---------------------------------------------------------------------------\u001b[0m",
      "\u001b[1;31mTraceError\u001b[0m                                Traceback (most recent call last)",
      "Cell \u001b[1;32mIn[32], line 4\u001b[0m\n\u001b[0;32m      1\u001b[0m \u001b[39mimport\u001b[39;00m \u001b[39mtorchvision\u001b[39;00m\n\u001b[0;32m      3\u001b[0m \u001b[39m# model = torchvision.models.resnet18()\u001b[39;00m\n\u001b[1;32m----> 4\u001b[0m train_nodes, _ \u001b[39m=\u001b[39m get_graph_node_names(model)\n\u001b[0;32m      5\u001b[0m \u001b[39mprint\u001b[39m(train_nodes)\n",
      "File \u001b[1;32mc:\\Users\\Lasse\\anaconda3\\envs\\DNN_project\\lib\\site-packages\\torchvision\\models\\feature_extraction.py:252\u001b[0m, in \u001b[0;36mget_graph_node_names\u001b[1;34m(model, tracer_kwargs, suppress_diff_warning)\u001b[0m\n\u001b[0;32m    250\u001b[0m is_training \u001b[39m=\u001b[39m model\u001b[39m.\u001b[39mtraining\n\u001b[0;32m    251\u001b[0m train_tracer \u001b[39m=\u001b[39m NodePathTracer(\u001b[39m*\u001b[39m\u001b[39m*\u001b[39mtracer_kwargs)\n\u001b[1;32m--> 252\u001b[0m train_tracer\u001b[39m.\u001b[39;49mtrace(model\u001b[39m.\u001b[39;49mtrain())\n\u001b[0;32m    253\u001b[0m eval_tracer \u001b[39m=\u001b[39m NodePathTracer(\u001b[39m*\u001b[39m\u001b[39m*\u001b[39mtracer_kwargs)\n\u001b[0;32m    254\u001b[0m eval_tracer\u001b[39m.\u001b[39mtrace(model\u001b[39m.\u001b[39meval())\n",
      "File \u001b[1;32mc:\\Users\\Lasse\\anaconda3\\envs\\DNN_project\\lib\\site-packages\\torch\\fx\\_symbolic_trace.py:778\u001b[0m, in \u001b[0;36mTracer.trace\u001b[1;34m(self, root, concrete_args)\u001b[0m\n\u001b[0;32m    771\u001b[0m         \u001b[39mfor\u001b[39;00m module \u001b[39min\u001b[39;00m \u001b[39mself\u001b[39m\u001b[39m.\u001b[39m_autowrap_search:\n\u001b[0;32m    772\u001b[0m             _autowrap_check(\n\u001b[0;32m    773\u001b[0m                 patcher, module\u001b[39m.\u001b[39m\u001b[39m__dict__\u001b[39m, \u001b[39mself\u001b[39m\u001b[39m.\u001b[39m_autowrap_function_ids\n\u001b[0;32m    774\u001b[0m             )\n\u001b[0;32m    775\u001b[0m         \u001b[39mself\u001b[39m\u001b[39m.\u001b[39mcreate_node(\n\u001b[0;32m    776\u001b[0m             \u001b[39m\"\u001b[39m\u001b[39moutput\u001b[39m\u001b[39m\"\u001b[39m,\n\u001b[0;32m    777\u001b[0m             \u001b[39m\"\u001b[39m\u001b[39moutput\u001b[39m\u001b[39m\"\u001b[39m,\n\u001b[1;32m--> 778\u001b[0m             (\u001b[39mself\u001b[39m\u001b[39m.\u001b[39mcreate_arg(fn(\u001b[39m*\u001b[39;49margs)),),\n\u001b[0;32m    779\u001b[0m             {},\n\u001b[0;32m    780\u001b[0m             type_expr\u001b[39m=\u001b[39mfn\u001b[39m.\u001b[39m\u001b[39m__annotations__\u001b[39m\u001b[39m.\u001b[39mget(\u001b[39m\"\u001b[39m\u001b[39mreturn\u001b[39m\u001b[39m\"\u001b[39m, \u001b[39mNone\u001b[39;00m),\n\u001b[0;32m    781\u001b[0m         )\n\u001b[0;32m    783\u001b[0m     \u001b[39mself\u001b[39m\u001b[39m.\u001b[39msubmodule_paths \u001b[39m=\u001b[39m \u001b[39mNone\u001b[39;00m\n\u001b[0;32m    784\u001b[0m \u001b[39mfinally\u001b[39;00m:\n",
      "File \u001b[1;32mc:\\Master\\Research Internship\\DNN_project\\custom\\mnist_net.py:27\u001b[0m, in \u001b[0;36mFreeConvNetwork.forward\u001b[1;34m(self, x)\u001b[0m\n\u001b[0;32m     26\u001b[0m \u001b[39mdef\u001b[39;00m \u001b[39mforward\u001b[39m(\u001b[39mself\u001b[39m, x):\n\u001b[1;32m---> 27\u001b[0m     output \u001b[39m=\u001b[39m \u001b[39mself\u001b[39;49m\u001b[39m.\u001b[39;49mSeq_stack(x)\n\u001b[0;32m     28\u001b[0m     \u001b[39mreturn\u001b[39;00m output\n",
      "File \u001b[1;32mc:\\Users\\Lasse\\anaconda3\\envs\\DNN_project\\lib\\site-packages\\torch\\fx\\_symbolic_trace.py:756\u001b[0m, in \u001b[0;36mTracer.trace.<locals>.module_call_wrapper\u001b[1;34m(mod, *args, **kwargs)\u001b[0m\n\u001b[0;32m    749\u001b[0m     \u001b[39mreturn\u001b[39;00m _orig_module_call(mod, \u001b[39m*\u001b[39margs, \u001b[39m*\u001b[39m\u001b[39m*\u001b[39mkwargs)\n\u001b[0;32m    751\u001b[0m _autowrap_check(\n\u001b[0;32m    752\u001b[0m     patcher,\n\u001b[0;32m    753\u001b[0m     \u001b[39mgetattr\u001b[39m(\u001b[39mgetattr\u001b[39m(mod, \u001b[39m\"\u001b[39m\u001b[39mforward\u001b[39m\u001b[39m\"\u001b[39m, mod), \u001b[39m\"\u001b[39m\u001b[39m__globals__\u001b[39m\u001b[39m\"\u001b[39m, {}),\n\u001b[0;32m    754\u001b[0m     \u001b[39mself\u001b[39m\u001b[39m.\u001b[39m_autowrap_function_ids,\n\u001b[0;32m    755\u001b[0m )\n\u001b[1;32m--> 756\u001b[0m \u001b[39mreturn\u001b[39;00m \u001b[39mself\u001b[39;49m\u001b[39m.\u001b[39;49mcall_module(mod, forward, args, kwargs)\n",
      "File \u001b[1;32mc:\\Users\\Lasse\\anaconda3\\envs\\DNN_project\\lib\\site-packages\\torchvision\\models\\feature_extraction.py:83\u001b[0m, in \u001b[0;36mNodePathTracer.call_module\u001b[1;34m(self, m, forward, args, kwargs)\u001b[0m\n\u001b[0;32m     81\u001b[0m \u001b[39mself\u001b[39m\u001b[39m.\u001b[39mcurrent_module_qualname \u001b[39m=\u001b[39m module_qualname\n\u001b[0;32m     82\u001b[0m \u001b[39mif\u001b[39;00m \u001b[39mnot\u001b[39;00m \u001b[39mself\u001b[39m\u001b[39m.\u001b[39mis_leaf_module(m, module_qualname):\n\u001b[1;32m---> 83\u001b[0m     out \u001b[39m=\u001b[39m forward(\u001b[39m*\u001b[39margs, \u001b[39m*\u001b[39m\u001b[39m*\u001b[39mkwargs)\n\u001b[0;32m     84\u001b[0m     \u001b[39mreturn\u001b[39;00m out\n\u001b[0;32m     85\u001b[0m \u001b[39mreturn\u001b[39;00m \u001b[39mself\u001b[39m\u001b[39m.\u001b[39mcreate_proxy(\u001b[39m\"\u001b[39m\u001b[39mcall_module\u001b[39m\u001b[39m\"\u001b[39m, module_qualname, args, kwargs)\n",
      "File \u001b[1;32mc:\\Users\\Lasse\\anaconda3\\envs\\DNN_project\\lib\\site-packages\\torch\\fx\\_symbolic_trace.py:749\u001b[0m, in \u001b[0;36mTracer.trace.<locals>.module_call_wrapper.<locals>.forward\u001b[1;34m(*args, **kwargs)\u001b[0m\n\u001b[0;32m    748\u001b[0m \u001b[39mdef\u001b[39;00m \u001b[39mforward\u001b[39m(\u001b[39m*\u001b[39margs, \u001b[39m*\u001b[39m\u001b[39m*\u001b[39mkwargs):\n\u001b[1;32m--> 749\u001b[0m     \u001b[39mreturn\u001b[39;00m _orig_module_call(mod, \u001b[39m*\u001b[39margs, \u001b[39m*\u001b[39m\u001b[39m*\u001b[39mkwargs)\n",
      "File \u001b[1;32mc:\\Users\\Lasse\\anaconda3\\envs\\DNN_project\\lib\\site-packages\\torch\\nn\\modules\\module.py:1501\u001b[0m, in \u001b[0;36mModule._call_impl\u001b[1;34m(self, *args, **kwargs)\u001b[0m\n\u001b[0;32m   1496\u001b[0m \u001b[39m# If we don't have any hooks, we want to skip the rest of the logic in\u001b[39;00m\n\u001b[0;32m   1497\u001b[0m \u001b[39m# this function, and just call forward.\u001b[39;00m\n\u001b[0;32m   1498\u001b[0m \u001b[39mif\u001b[39;00m \u001b[39mnot\u001b[39;00m (\u001b[39mself\u001b[39m\u001b[39m.\u001b[39m_backward_hooks \u001b[39mor\u001b[39;00m \u001b[39mself\u001b[39m\u001b[39m.\u001b[39m_backward_pre_hooks \u001b[39mor\u001b[39;00m \u001b[39mself\u001b[39m\u001b[39m.\u001b[39m_forward_hooks \u001b[39mor\u001b[39;00m \u001b[39mself\u001b[39m\u001b[39m.\u001b[39m_forward_pre_hooks\n\u001b[0;32m   1499\u001b[0m         \u001b[39mor\u001b[39;00m _global_backward_pre_hooks \u001b[39mor\u001b[39;00m _global_backward_hooks\n\u001b[0;32m   1500\u001b[0m         \u001b[39mor\u001b[39;00m _global_forward_hooks \u001b[39mor\u001b[39;00m _global_forward_pre_hooks):\n\u001b[1;32m-> 1501\u001b[0m     \u001b[39mreturn\u001b[39;00m forward_call(\u001b[39m*\u001b[39margs, \u001b[39m*\u001b[39m\u001b[39m*\u001b[39mkwargs)\n\u001b[0;32m   1502\u001b[0m \u001b[39m# Do not call functions when jit is used\u001b[39;00m\n\u001b[0;32m   1503\u001b[0m full_backward_hooks, non_full_backward_hooks \u001b[39m=\u001b[39m [], []\n",
      "File \u001b[1;32mc:\\Users\\Lasse\\anaconda3\\envs\\DNN_project\\lib\\site-packages\\torch\\nn\\modules\\container.py:217\u001b[0m, in \u001b[0;36mSequential.forward\u001b[1;34m(self, input)\u001b[0m\n\u001b[0;32m    215\u001b[0m \u001b[39mdef\u001b[39;00m \u001b[39mforward\u001b[39m(\u001b[39mself\u001b[39m, \u001b[39minput\u001b[39m):\n\u001b[0;32m    216\u001b[0m     \u001b[39mfor\u001b[39;00m module \u001b[39min\u001b[39;00m \u001b[39mself\u001b[39m:\n\u001b[1;32m--> 217\u001b[0m         \u001b[39minput\u001b[39m \u001b[39m=\u001b[39m module(\u001b[39minput\u001b[39;49m)\n\u001b[0;32m    218\u001b[0m     \u001b[39mreturn\u001b[39;00m \u001b[39minput\u001b[39m\n",
      "File \u001b[1;32mc:\\Users\\Lasse\\anaconda3\\envs\\DNN_project\\lib\\site-packages\\torch\\fx\\_symbolic_trace.py:756\u001b[0m, in \u001b[0;36mTracer.trace.<locals>.module_call_wrapper\u001b[1;34m(mod, *args, **kwargs)\u001b[0m\n\u001b[0;32m    749\u001b[0m     \u001b[39mreturn\u001b[39;00m _orig_module_call(mod, \u001b[39m*\u001b[39margs, \u001b[39m*\u001b[39m\u001b[39m*\u001b[39mkwargs)\n\u001b[0;32m    751\u001b[0m _autowrap_check(\n\u001b[0;32m    752\u001b[0m     patcher,\n\u001b[0;32m    753\u001b[0m     \u001b[39mgetattr\u001b[39m(\u001b[39mgetattr\u001b[39m(mod, \u001b[39m\"\u001b[39m\u001b[39mforward\u001b[39m\u001b[39m\"\u001b[39m, mod), \u001b[39m\"\u001b[39m\u001b[39m__globals__\u001b[39m\u001b[39m\"\u001b[39m, {}),\n\u001b[0;32m    754\u001b[0m     \u001b[39mself\u001b[39m\u001b[39m.\u001b[39m_autowrap_function_ids,\n\u001b[0;32m    755\u001b[0m )\n\u001b[1;32m--> 756\u001b[0m \u001b[39mreturn\u001b[39;00m \u001b[39mself\u001b[39;49m\u001b[39m.\u001b[39;49mcall_module(mod, forward, args, kwargs)\n",
      "File \u001b[1;32mc:\\Users\\Lasse\\anaconda3\\envs\\DNN_project\\lib\\site-packages\\torchvision\\models\\feature_extraction.py:83\u001b[0m, in \u001b[0;36mNodePathTracer.call_module\u001b[1;34m(self, m, forward, args, kwargs)\u001b[0m\n\u001b[0;32m     81\u001b[0m \u001b[39mself\u001b[39m\u001b[39m.\u001b[39mcurrent_module_qualname \u001b[39m=\u001b[39m module_qualname\n\u001b[0;32m     82\u001b[0m \u001b[39mif\u001b[39;00m \u001b[39mnot\u001b[39;00m \u001b[39mself\u001b[39m\u001b[39m.\u001b[39mis_leaf_module(m, module_qualname):\n\u001b[1;32m---> 83\u001b[0m     out \u001b[39m=\u001b[39m forward(\u001b[39m*\u001b[39margs, \u001b[39m*\u001b[39m\u001b[39m*\u001b[39mkwargs)\n\u001b[0;32m     84\u001b[0m     \u001b[39mreturn\u001b[39;00m out\n\u001b[0;32m     85\u001b[0m \u001b[39mreturn\u001b[39;00m \u001b[39mself\u001b[39m\u001b[39m.\u001b[39mcreate_proxy(\u001b[39m\"\u001b[39m\u001b[39mcall_module\u001b[39m\u001b[39m\"\u001b[39m, module_qualname, args, kwargs)\n",
      "File \u001b[1;32mc:\\Users\\Lasse\\anaconda3\\envs\\DNN_project\\lib\\site-packages\\torch\\fx\\_symbolic_trace.py:749\u001b[0m, in \u001b[0;36mTracer.trace.<locals>.module_call_wrapper.<locals>.forward\u001b[1;34m(*args, **kwargs)\u001b[0m\n\u001b[0;32m    748\u001b[0m \u001b[39mdef\u001b[39;00m \u001b[39mforward\u001b[39m(\u001b[39m*\u001b[39margs, \u001b[39m*\u001b[39m\u001b[39m*\u001b[39mkwargs):\n\u001b[1;32m--> 749\u001b[0m     \u001b[39mreturn\u001b[39;00m _orig_module_call(mod, \u001b[39m*\u001b[39margs, \u001b[39m*\u001b[39m\u001b[39m*\u001b[39mkwargs)\n",
      "File \u001b[1;32mc:\\Users\\Lasse\\anaconda3\\envs\\DNN_project\\lib\\site-packages\\torch\\nn\\modules\\module.py:1501\u001b[0m, in \u001b[0;36mModule._call_impl\u001b[1;34m(self, *args, **kwargs)\u001b[0m\n\u001b[0;32m   1496\u001b[0m \u001b[39m# If we don't have any hooks, we want to skip the rest of the logic in\u001b[39;00m\n\u001b[0;32m   1497\u001b[0m \u001b[39m# this function, and just call forward.\u001b[39;00m\n\u001b[0;32m   1498\u001b[0m \u001b[39mif\u001b[39;00m \u001b[39mnot\u001b[39;00m (\u001b[39mself\u001b[39m\u001b[39m.\u001b[39m_backward_hooks \u001b[39mor\u001b[39;00m \u001b[39mself\u001b[39m\u001b[39m.\u001b[39m_backward_pre_hooks \u001b[39mor\u001b[39;00m \u001b[39mself\u001b[39m\u001b[39m.\u001b[39m_forward_hooks \u001b[39mor\u001b[39;00m \u001b[39mself\u001b[39m\u001b[39m.\u001b[39m_forward_pre_hooks\n\u001b[0;32m   1499\u001b[0m         \u001b[39mor\u001b[39;00m _global_backward_pre_hooks \u001b[39mor\u001b[39;00m _global_backward_hooks\n\u001b[0;32m   1500\u001b[0m         \u001b[39mor\u001b[39;00m _global_forward_hooks \u001b[39mor\u001b[39;00m _global_forward_pre_hooks):\n\u001b[1;32m-> 1501\u001b[0m     \u001b[39mreturn\u001b[39;00m forward_call(\u001b[39m*\u001b[39margs, \u001b[39m*\u001b[39m\u001b[39m*\u001b[39mkwargs)\n\u001b[0;32m   1502\u001b[0m \u001b[39m# Do not call functions when jit is used\u001b[39;00m\n\u001b[0;32m   1503\u001b[0m full_backward_hooks, non_full_backward_hooks \u001b[39m=\u001b[39m [], []\n",
      "File \u001b[1;32mc:\\Master\\Research Internship\\DNN_project\\custom\\LocallyConnected2d.py:28\u001b[0m, in \u001b[0;36mLocallyConnected2d.forward\u001b[1;34m(self, x)\u001b[0m\n\u001b[0;32m     26\u001b[0m dh, dw \u001b[39m=\u001b[39m \u001b[39mself\u001b[39m\u001b[39m.\u001b[39mstride\n\u001b[0;32m     27\u001b[0m x \u001b[39m=\u001b[39m x\u001b[39m.\u001b[39munfold(\u001b[39m2\u001b[39m, kh, dh)\u001b[39m.\u001b[39munfold(\u001b[39m3\u001b[39m, kw, dw)\n\u001b[1;32m---> 28\u001b[0m x \u001b[39m=\u001b[39m x\u001b[39m.\u001b[39mcontiguous()\u001b[39m.\u001b[39mview(\u001b[39m*\u001b[39mx\u001b[39m.\u001b[39msize()[:\u001b[39m-\u001b[39m\u001b[39m2\u001b[39m], \u001b[39m-\u001b[39m\u001b[39m1\u001b[39m)\n\u001b[0;32m     30\u001b[0m \u001b[39m# Sum in in_channel and kernel_size dims\u001b[39;00m\n\u001b[0;32m     31\u001b[0m out \u001b[39m=\u001b[39m (x\u001b[39m.\u001b[39munsqueeze(\u001b[39m1\u001b[39m) \u001b[39m*\u001b[39m \u001b[39mself\u001b[39m\u001b[39m.\u001b[39mweight)\u001b[39m.\u001b[39msum([\u001b[39m2\u001b[39m, \u001b[39m-\u001b[39m\u001b[39m1\u001b[39m])\n",
      "File \u001b[1;32mc:\\Users\\Lasse\\anaconda3\\envs\\DNN_project\\lib\\site-packages\\torch\\fx\\proxy.py:385\u001b[0m, in \u001b[0;36mProxy.__iter__\u001b[1;34m(self)\u001b[0m\n\u001b[0;32m    382\u001b[0m \u001b[39mif\u001b[39;00m inst\u001b[39m.\u001b[39mopname \u001b[39m==\u001b[39m \u001b[39m'\u001b[39m\u001b[39mUNPACK_SEQUENCE\u001b[39m\u001b[39m'\u001b[39m:\n\u001b[0;32m    383\u001b[0m     \u001b[39mreturn\u001b[39;00m (\u001b[39mself\u001b[39m[i] \u001b[39mfor\u001b[39;00m i \u001b[39min\u001b[39;00m \u001b[39mrange\u001b[39m(inst\u001b[39m.\u001b[39margval))  \u001b[39m# type: ignore[index]\u001b[39;00m\n\u001b[1;32m--> 385\u001b[0m \u001b[39mreturn\u001b[39;00m \u001b[39mself\u001b[39;49m\u001b[39m.\u001b[39;49mtracer\u001b[39m.\u001b[39;49miter(\u001b[39mself\u001b[39;49m)\n",
      "File \u001b[1;32mc:\\Users\\Lasse\\anaconda3\\envs\\DNN_project\\lib\\site-packages\\torch\\fx\\proxy.py:285\u001b[0m, in \u001b[0;36mTracerBase.iter\u001b[1;34m(self, obj)\u001b[0m\n\u001b[0;32m    278\u001b[0m \u001b[39m@compatibility\u001b[39m(is_backward_compatible\u001b[39m=\u001b[39m\u001b[39mTrue\u001b[39;00m)\n\u001b[0;32m    279\u001b[0m \u001b[39mdef\u001b[39;00m \u001b[39miter\u001b[39m(\u001b[39mself\u001b[39m, obj: \u001b[39m'\u001b[39m\u001b[39mProxy\u001b[39m\u001b[39m'\u001b[39m) \u001b[39m-\u001b[39m\u001b[39m>\u001b[39m Iterator:\n\u001b[0;32m    280\u001b[0m \u001b[39m    \u001b[39m\u001b[39m\"\"\"Called when a proxy object is being iterated over, such as\u001b[39;00m\n\u001b[0;32m    281\u001b[0m \u001b[39m    when used in control flow.  Normally we don't know what to do because\u001b[39;00m\n\u001b[0;32m    282\u001b[0m \u001b[39m    we don't know the value of the proxy, but a custom tracer can attach more\u001b[39;00m\n\u001b[0;32m    283\u001b[0m \u001b[39m    information to the graph node using create_node and can choose to return an iterator.\u001b[39;00m\n\u001b[0;32m    284\u001b[0m \u001b[39m    \"\"\"\u001b[39;00m\n\u001b[1;32m--> 285\u001b[0m     \u001b[39mraise\u001b[39;00m TraceError(\u001b[39m'\u001b[39m\u001b[39mProxy object cannot be iterated. This can be \u001b[39m\u001b[39m'\u001b[39m\n\u001b[0;32m    286\u001b[0m                      \u001b[39m'\u001b[39m\u001b[39mattempted when the Proxy is used in a loop or\u001b[39m\u001b[39m'\u001b[39m\n\u001b[0;32m    287\u001b[0m                      \u001b[39m'\u001b[39m\u001b[39m as a *args or **kwargs function argument. \u001b[39m\u001b[39m'\u001b[39m\n\u001b[0;32m    288\u001b[0m                      \u001b[39m'\u001b[39m\u001b[39mSee the torch.fx docs on pytorch.org for a \u001b[39m\u001b[39m'\u001b[39m\n\u001b[0;32m    289\u001b[0m                      \u001b[39m'\u001b[39m\u001b[39mmore detailed explanation of what types of \u001b[39m\u001b[39m'\u001b[39m\n\u001b[0;32m    290\u001b[0m                      \u001b[39m'\u001b[39m\u001b[39mcontrol flow can be traced, and check out the\u001b[39m\u001b[39m'\u001b[39m\n\u001b[0;32m    291\u001b[0m                      \u001b[39m'\u001b[39m\u001b[39m Proxy docstring for help troubleshooting \u001b[39m\u001b[39m'\u001b[39m\n\u001b[0;32m    292\u001b[0m                      \u001b[39m'\u001b[39m\u001b[39mProxy iteration errors\u001b[39m\u001b[39m'\u001b[39m)\n",
      "\u001b[1;31mTraceError\u001b[0m: Proxy object cannot be iterated. This can be attempted when the Proxy is used in a loop or as a *args or **kwargs function argument. See the torch.fx docs on pytorch.org for a more detailed explanation of what types of control flow can be traced, and check out the Proxy docstring for help troubleshooting Proxy iteration errors"
     ]
    }
   ],
   "source": [
    "import torchvision\n",
    "\n",
    "# model = torchvision.models.resnet18()\n",
    "train_nodes, _ = get_graph_node_names(model)\n",
    "print(train_nodes)"
   ]
  },
  {
   "cell_type": "code",
   "execution_count": null,
   "metadata": {},
   "outputs": [],
   "source": []
  }
 ],
 "metadata": {
  "kernelspec": {
   "display_name": "DNN_project",
   "language": "python",
   "name": "python3"
  },
  "language_info": {
   "codemirror_mode": {
    "name": "ipython",
    "version": 3
   },
   "file_extension": ".py",
   "mimetype": "text/x-python",
   "name": "python",
   "nbconvert_exporter": "python",
   "pygments_lexer": "ipython3",
   "version": "3.10.11"
  },
  "orig_nbformat": 4
 },
 "nbformat": 4,
 "nbformat_minor": 2
}
