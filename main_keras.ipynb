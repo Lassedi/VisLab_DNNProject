{
 "cells": [
  {
   "cell_type": "code",
   "execution_count": null,
   "metadata": {},
   "outputs": [],
   "source": [
    "from keras.models import Sequential\n",
    "from keras.layers import Dense, LocallyConnected2D, Flatten\n",
    "import tensorflow as tf\n",
    "\n",
    "with tf.device(\"/device:GPU:0\"):\n",
    "    # make the model\n",
    "    model = Sequential()\n",
    "\n",
    "    # add layers\n",
    "\n",
    "    model.add(\n",
    "    LocallyConnected2D(32, (3,3), (2,2),data_format=\"channels_first\", \n",
    "                        activation=\"ReLU\", use_bias=True))\n",
    "    model.add(\n",
    "    LocallyConnected2D(64,(3,3),(2,2),data_format=\"channels_first\", \n",
    "                        activation=\"ReLU\", use_bias=True))\n",
    "    model.add(\n",
    "    LocallyConnected2D(128,(3,3), (1,1), data_format=\"channels_first\",\n",
    "                        activation=\"ReLU\",use_bias=True))\n",
    "\n",
    "    model.add(Flatten())\n",
    "    model.add(Dense(200, \"ReLU\"))"
   ]
  }
 ],
 "metadata": {
  "language_info": {
   "name": "python"
  },
  "orig_nbformat": 4
 },
 "nbformat": 4,
 "nbformat_minor": 2
}
