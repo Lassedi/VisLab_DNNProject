{
 "cells": [
  {
   "cell_type": "code",
   "execution_count": 4,
   "metadata": {},
   "outputs": [],
   "source": [
    "from keras.models import Sequential\n",
    "from keras.layers import Dense, LocallyConnected2D, Flatten\n",
    "import tensorflow as tf\n",
    "from tensorflow import keras\n",
    "import numpy as np\n",
    "from keras.utils import to_categorical\n",
    "\n",
    "# make the model\n",
    "model = Sequential()\n",
    "\n",
    "# add layers\n",
    "model.add(\n",
    "LocallyConnected2D(16, (3,3), (2,2), \n",
    "                    activation=\"ReLU\", use_bias=True))\n",
    "model.add(\n",
    "LocallyConnected2D(32,(3,3),(2,2), \n",
    "                    activation=\"ReLU\", use_bias=True))\n",
    "model.add(\n",
    "LocallyConnected2D(64,(3,3), (1,1),\n",
    "                    activation=\"ReLU\",use_bias=True))\n",
    "\n",
    "model.add(Flatten())\n",
    "model.add(Dense(512, \"ReLU\"))\n",
    "model.add(Dense(10, \"softmax\"))"
   ]
  },
  {
   "cell_type": "code",
   "execution_count": 73,
   "metadata": {},
   "outputs": [
    {
     "name": "stdout",
     "output_type": "stream",
     "text": [
      "Model: \"sequential_10\"\n",
      "_________________________________________________________________\n",
      " Layer (type)                Output Shape              Param #   \n",
      "=================================================================\n",
      " locally_connected2d_30 (Loc  (None, 13, 13, 16)       27040     \n",
      " allyConnected2D)                                                \n",
      "                                                                 \n",
      " locally_connected2d_31 (Loc  (None, 6, 6, 32)         167040    \n",
      " allyConnected2D)                                                \n",
      "                                                                 \n",
      " locally_connected2d_32 (Loc  (None, 4, 4, 64)         295936    \n",
      " allyConnected2D)                                                \n",
      "                                                                 \n",
      " flatten_10 (Flatten)        (None, 1024)              0         \n",
      "                                                                 \n",
      " dense_12 (Dense)            (None, 512)               524800    \n",
      "                                                                 \n",
      " dense_13 (Dense)            (None, 10)                5130      \n",
      "                                                                 \n",
      "=================================================================\n",
      "Total params: 1,019,946\n",
      "Trainable params: 1,019,946\n",
      "Non-trainable params: 0\n",
      "_________________________________________________________________\n"
     ]
    }
   ],
   "source": [
    "model.summary()"
   ]
  },
  {
   "cell_type": "code",
   "execution_count": 2,
   "metadata": {},
   "outputs": [],
   "source": [
    "# load data and move \n",
    "(x_train, y_train), (x_test, y_test) = keras.datasets.mnist.load_data()\n",
    "\n",
    "#preprocess the data\n",
    "x_train = x_train.reshape(60000,28,28,1).astype(\"float32\") / 255 # divide by 255 to normalize input\n",
    "x_test = x_test.reshape(10000,28,28,1).astype(\"float32\") / 255\n",
    "\n",
    "y_train = y_train.astype(\"float32\")\n",
    "y_test = y_train.astype(\"float32\")\n",
    "\n",
    "# 10000 samples for validation\n",
    "x_val = x_train[-10000:]\n",
    "y_val = to_categorical(y_train[-10000:])\n",
    "x_train = x_train[:-10000]\n",
    "y_train = to_categorical(y_train[:-10000])"
   ]
  },
  {
   "cell_type": "code",
   "execution_count": 7,
   "metadata": {},
   "outputs": [
    {
     "name": "stdout",
     "output_type": "stream",
     "text": [
      "Epoch 1/5\n",
      "3125/3125 [==============================] - 124s 38ms/step - loss: 0.3833 - accuracy: 0.8928 - val_loss: 0.1723 - val_accuracy: 0.9524\n",
      "Epoch 2/5\n",
      "3125/3125 [==============================] - 121s 39ms/step - loss: 0.1507 - accuracy: 0.9549 - val_loss: 0.1081 - val_accuracy: 0.9689\n",
      "Epoch 3/5\n",
      "3125/3125 [==============================] - 124s 40ms/step - loss: 0.1022 - accuracy: 0.9686 - val_loss: 0.0801 - val_accuracy: 0.9755\n",
      "Epoch 4/5\n",
      "3125/3125 [==============================] - 121s 39ms/step - loss: 0.0796 - accuracy: 0.9757 - val_loss: 0.0713 - val_accuracy: 0.9801\n",
      "Epoch 5/5\n",
      "3125/3125 [==============================] - 121s 39ms/step - loss: 0.0655 - accuracy: 0.9801 - val_loss: 0.0685 - val_accuracy: 0.9796\n"
     ]
    }
   ],
   "source": [
    "# define optimizer, loss and evaluation metrics\n",
    "\n",
    "model.compile(\n",
    "optimizer = keras.optimizers.Adam(learning_rate=0.0001),\n",
    "loss = \"categorical_crossentropy\",\n",
    "metrics = [\"accuracy\"],\n",
    ")\n",
    "\n",
    "# fit the model\n",
    "history = model.fit(\n",
    "x_train,\n",
    "y_train,\n",
    "batch_size=16,\n",
    "epochs=5,\n",
    "\n",
    "validation_data=(x_val, y_val)\n",
    ")\n"
   ]
  }
 ],
 "metadata": {
  "kernelspec": {
   "display_name": "DNN_project",
   "language": "python",
   "name": "python3"
  },
  "language_info": {
   "codemirror_mode": {
    "name": "ipython",
    "version": 3
   },
   "file_extension": ".py",
   "mimetype": "text/x-python",
   "name": "python",
   "nbconvert_exporter": "python",
   "pygments_lexer": "ipython3",
   "version": "3.11.3"
  },
  "orig_nbformat": 4
 },
 "nbformat": 4,
 "nbformat_minor": 2
}
