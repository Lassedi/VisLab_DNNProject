{
 "cells": [
  {
   "cell_type": "code",
   "execution_count": 2,
   "metadata": {},
   "outputs": [
    {
     "data": {
      "text/plain": [
       "'c:\\\\Master\\\\Research Internship\\\\DNN_project'"
      ]
     },
     "execution_count": 2,
     "metadata": {},
     "output_type": "execute_result"
    }
   ],
   "source": [
    "import os\n",
    "import pandas as pd\n",
    "import matplotlib.pyplot as plt\n",
    "import math\n",
    "os.getcwd()\n"
   ]
  },
  {
   "cell_type": "code",
   "execution_count": 4,
   "metadata": {},
   "outputs": [
    {
     "name": "stdout",
     "output_type": "stream",
     "text": [
      "6 5\n"
     ]
    },
    {
     "data": {
      "image/png": "[encoded data removed]",
      "text/plain": [
       "<Figure size 640x480 with 30 Axes>"
      ]
     },
     "metadata": {},
     "output_type": "display_data"
    }
   ],
   "source": [
    "# read in the image identity text file\n",
    "column_names = [\"pict_name\", \"pict_id\"]\n",
    "img_id = pd.read_csv(\"./Data/identity_CelebA.txt\", sep = \" \", header = None, names = column_names)\n",
    "\n",
    "# select and index all images with the same id from identity df\n",
    "img_0 = img_id[img_id.pict_id == img_id.pict_id[0]]\n",
    "img_0 = img_0.reset_index(drop = True) \n",
    "\n",
    "# plot the pictures\n",
    "ncol = math.ceil(math.sqrt(len(img_0)))\n",
    "nrow = ncol - 1\n",
    "fig, axs = plt.subplots(nrows = nrow, ncols= ncol)\n",
    "count = 0\n",
    "\n",
    "\n",
    "print(ncol, nrow)\n",
    "for pic_r in range(nrow):\n",
    "    for pic_c in range(ncol):\n",
    "        try:\n",
    "            img_path = \"./Data/img_align_celeba/img_align_celeba/{}\".format(img_0.pict_name[count])\n",
    "            img = plt.imread(img_path)\n",
    "            axs[pic_r, pic_c].imshow(img, interpolation = \"nearest\")\n",
    "            axs[pic_r, pic_c].axis(\"off\")\n",
    "            count += 1\n",
    "        except:\n",
    "            KeyError # not all identities have the same amount of pictures\n",
    "            axs[pic_r, pic_c].axis(\"off\")\n",
    "            pass\n",
    "\n",
    "plt.show()"
   ]
  },
  {
   "cell_type": "code",
   "execution_count": 5,
   "metadata": {},
   "outputs": [
    {
     "data": {
      "text/html": [
       "<div>\n",
       "<style scoped>\n",
       "    .dataframe tbody tr th:only-of-type {\n",
       "        vertical-align: middle;\n",
       "    }\n",
       "\n",
       "    .dataframe tbody tr th {\n",
       "        vertical-align: top;\n",
       "    }\n",
       "\n",
       "    .dataframe thead th {\n",
       "        text-align: right;\n",
       "    }\n",
       "</style>\n",
       "<table border=\"1\" class=\"dataframe\">\n",
       "  <thead>\n",
       "    <tr style=\"text-align: right;\">\n",
       "      <th></th>\n",
       "      <th>pict_name</th>\n",
       "      <th>pict_id</th>\n",
       "    </tr>\n",
       "  </thead>\n",
       "  <tbody>\n",
       "    <tr>\n",
       "      <th>0</th>\n",
       "      <td>000001.jpg</td>\n",
       "      <td>2880</td>\n",
       "    </tr>\n",
       "    <tr>\n",
       "      <th>1</th>\n",
       "      <td>000002.jpg</td>\n",
       "      <td>2937</td>\n",
       "    </tr>\n",
       "    <tr>\n",
       "      <th>2</th>\n",
       "      <td>000003.jpg</td>\n",
       "      <td>8692</td>\n",
       "    </tr>\n",
       "    <tr>\n",
       "      <th>3</th>\n",
       "      <td>000004.jpg</td>\n",
       "      <td>5805</td>\n",
       "    </tr>\n",
       "    <tr>\n",
       "      <th>4</th>\n",
       "      <td>000005.jpg</td>\n",
       "      <td>9295</td>\n",
       "    </tr>\n",
       "    <tr>\n",
       "      <th>...</th>\n",
       "      <td>...</td>\n",
       "      <td>...</td>\n",
       "    </tr>\n",
       "    <tr>\n",
       "      <th>202594</th>\n",
       "      <td>202595.jpg</td>\n",
       "      <td>9761</td>\n",
       "    </tr>\n",
       "    <tr>\n",
       "      <th>202595</th>\n",
       "      <td>202596.jpg</td>\n",
       "      <td>7192</td>\n",
       "    </tr>\n",
       "    <tr>\n",
       "      <th>202596</th>\n",
       "      <td>202597.jpg</td>\n",
       "      <td>9852</td>\n",
       "    </tr>\n",
       "    <tr>\n",
       "      <th>202597</th>\n",
       "      <td>202598.jpg</td>\n",
       "      <td>5570</td>\n",
       "    </tr>\n",
       "    <tr>\n",
       "      <th>202598</th>\n",
       "      <td>202599.jpg</td>\n",
       "      <td>10101</td>\n",
       "    </tr>\n",
       "  </tbody>\n",
       "</table>\n",
       "<p>202599 rows × 2 columns</p>\n",
       "</div>"
      ],
      "text/plain": [
       "         pict_name  pict_id\n",
       "0       000001.jpg     2880\n",
       "1       000002.jpg     2937\n",
       "2       000003.jpg     8692\n",
       "3       000004.jpg     5805\n",
       "4       000005.jpg     9295\n",
       "...            ...      ...\n",
       "202594  202595.jpg     9761\n",
       "202595  202596.jpg     7192\n",
       "202596  202597.jpg     9852\n",
       "202597  202598.jpg     5570\n",
       "202598  202599.jpg    10101\n",
       "\n",
       "[202599 rows x 2 columns]"
      ]
     },
     "execution_count": 5,
     "metadata": {},
     "output_type": "execute_result"
    }
   ],
   "source": [
    "img_id"
   ]
  },
  {
   "cell_type": "code",
   "execution_count": 19,
   "metadata": {},
   "outputs": [
    {
     "data": {
      "text/plain": [
       "(218, 178, 3)"
      ]
     },
     "execution_count": 19,
     "metadata": {},
     "output_type": "execute_result"
    }
   ],
   "source": [
    "img_path = \"./Data/img_align_celeba/img_align_celeba/{}\".format(img_0.pict_name[10])\n",
    "img = plt.imread(img_path)\n",
    "img.shape"
   ]
  }
 ],
 "metadata": {
  "kernelspec": {
   "display_name": "Python 3 (ipykernel)",
   "language": "python",
   "name": "python3"
  },
  "language_info": {
   "codemirror_mode": {
    "name": "ipython",
    "version": 3
   },
   "file_extension": ".py",
   "mimetype": "text/x-python",
   "name": "python",
   "nbconvert_exporter": "python",
   "pygments_lexer": "ipython3",
   "version": "3.11.3"
  },
  "orig_nbformat": 4
 },
 "nbformat": 4,
 "nbformat_minor": 2
}
